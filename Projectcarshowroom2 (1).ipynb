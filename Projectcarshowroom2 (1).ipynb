{
 "cells": [
  {
   "cell_type": "code",
   "execution_count": 7,
   "id": "eb57ac64-ec92-498d-b2e8-9609c680ea60",
   "metadata": {},
   "outputs": [
    {
     "name": "stdout",
     "output_type": "stream",
     "text": [
      "Make: Toyota, Model: Camry, Year: 2021, Price: 30000\n",
      "Make: Honda, Model: Civic, Year: 2020, Price: 25000\n",
      "Make: Ford, Model: Mustang, Year: 2022, Price: 45000\n",
      "\n",
      "After removing a car:\n",
      "Make: Toyota, Model: Camry, Year: 2021, Price: 30000\n",
      "Make: Ford, Model: Mustang, Year: 2022, Price: 45000\n"
     ]
    }
   ],
   "source": [
    "class Car:\n",
    "    def __init__(self, make, model, year, price):\n",
    "        self.make = make\n",
    "        self.model = model\n",
    "        self.year = year\n",
    "        self.price = price\n",
    "\n",
    "    def display_info(self):\n",
    "        print(f\"Make: {self.make}, Model: {self.model}, Year: {self.year}, Price: {self.price}\")\n",
    "\n",
    "class Showroom:\n",
    "    def __init__(self):\n",
    "        self.cars = []\n",
    "\n",
    "    def add_car(self, car):\n",
    "        self.cars.append(car)\n",
    "\n",
    "    def remove_car(self, car):\n",
    "        self.cars.remove(car)\n",
    "\n",
    "    def display_cars(self):\n",
    "        for car in self.cars:\n",
    "            car.display_info()\n",
    "\n",
    "# Data\n",
    "car1 = Car(\"Toyota\", \"Camry\", 2021, 30000)\n",
    "car2 = Car(\"Honda\", \"Civic\", 2020, 25000)\n",
    "car3 = Car(\"Ford\", \"Mustang\", 2022, 45000)\n",
    "\n",
    "# Create a showroom and add cars\n",
    "showroom = Showroom()\n",
    "showroom.add_car(car1)\n",
    "showroom.add_car(car2)\n",
    "showroom.add_car(car3)\n",
    "\n",
    "# Display all cars in the showroom\n",
    "showroom.display_cars()\n",
    "\n",
    "# Remove a car and display remaining cars\n",
    "showroom.remove_car(car2)\n",
    "print(\"\\nAfter removing a car:\")\n",
    "showroom.display_cars()\n"
   ]
  },
  {
   "cell_type": "code",
   "execution_count": null,
   "id": "88281b92-adcd-4dfb-9247-865fd2ebe8f4",
   "metadata": {},
   "outputs": [],
   "source": []
  }
 ],
 "metadata": {
  "kernelspec": {
   "display_name": "Python 3 (ipykernel)",
   "language": "python",
   "name": "python3"
  },
  "language_info": {
   "codemirror_mode": {
    "name": "ipython",
    "version": 3
   },
   "file_extension": ".py",
   "mimetype": "text/x-python",
   "name": "python",
   "nbconvert_exporter": "python",
   "pygments_lexer": "ipython3",
   "version": "3.11.7"
  }
 },
 "nbformat": 4,
 "nbformat_minor": 5
}
